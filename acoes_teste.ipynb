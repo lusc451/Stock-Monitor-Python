{
 "cells": [
  {
   "cell_type": "markdown",
   "metadata": {},
   "source": [
    "## Testando a biblioteca `yfianance` ao invés da `investpy` para criação do monitor de ações"
   ]
  },
  {
   "cell_type": "code",
   "execution_count": 1,
   "metadata": {},
   "outputs": [],
   "source": [
    "import yfinance as yf\n",
    "import pandas as pd"
   ]
  },
  {
   "cell_type": "code",
   "execution_count": 2,
   "metadata": {},
   "outputs": [
    {
     "name": "stdout",
     "output_type": "stream",
     "text": [
      "                           Open  High   Low  Close    Volume  Dividends  \\\n",
      "Date                                                                      \n",
      "2024-08-20 00:00:00-03:00  7.74  7.94  7.67   7.84  10548000        0.0   \n",
      "2024-08-21 00:00:00-03:00  7.91  7.91  7.76   7.90   8607300        0.0   \n",
      "2024-08-22 00:00:00-03:00  7.89  7.94  7.67   7.75   8206600        0.0   \n",
      "2024-08-23 00:00:00-03:00  7.75  8.02  7.64   7.95  11688900        0.0   \n",
      "2024-08-26 00:00:00-03:00  7.96  8.02  7.73   7.78   6479700        0.0   \n",
      "2024-08-27 00:00:00-03:00  7.76  7.89  7.69   7.79   7471700        0.0   \n",
      "2024-08-28 00:00:00-03:00  7.72  7.75  7.47   7.64   8778100        0.0   \n",
      "2024-08-29 00:00:00-03:00  7.61  7.65  7.44   7.52   5882300        0.0   \n",
      "2024-08-30 00:00:00-03:00  7.46  7.56  7.41   7.49   9877100        0.0   \n",
      "2024-09-02 00:00:00-03:00  7.45  7.45  7.20   7.24   7587900        0.0   \n",
      "2024-09-03 00:00:00-03:00  7.24  7.27  7.12   7.14   9800300        0.0   \n",
      "2024-09-04 00:00:00-03:00  7.15  7.48  7.15   7.41   5850400        0.0   \n",
      "2024-09-05 00:00:00-03:00  7.40  7.43  7.11   7.20   7404900        0.0   \n",
      "2024-09-06 00:00:00-03:00  7.16  7.22  7.00   7.00   5748800        0.0   \n",
      "2024-09-09 00:00:00-03:00  7.03  7.09  6.96   7.00   5070000        0.0   \n",
      "2024-09-10 00:00:00-03:00  6.96  7.12  6.96   7.05   4551000        0.0   \n",
      "2024-09-11 00:00:00-03:00  7.06  7.09  7.00   7.04   4043900        0.0   \n",
      "2024-09-12 00:00:00-03:00  7.02  7.08  6.97   6.98   6235400        0.0   \n",
      "2024-09-13 00:00:00-03:00  7.01  7.08  6.80   6.91   8101700        0.0   \n",
      "2024-09-16 00:00:00-03:00  6.90  6.94  6.77   6.80   5550100        0.0   \n",
      "2024-09-17 00:00:00-03:00  6.78  6.99  6.73   6.95   7207300        0.0   \n",
      "2024-09-18 00:00:00-03:00  6.90  6.94  6.68   6.69   8283500        0.0   \n",
      "2024-09-19 00:00:00-03:00  6.73  6.82  6.67   6.69   6790000        0.0   \n",
      "2024-09-20 00:00:00-03:00  6.70  6.74  6.50   6.53   6878800        0.0   \n",
      "\n",
      "                           Stock Splits  \n",
      "Date                                     \n",
      "2024-08-20 00:00:00-03:00           0.0  \n",
      "2024-08-21 00:00:00-03:00           0.0  \n",
      "2024-08-22 00:00:00-03:00           0.0  \n",
      "2024-08-23 00:00:00-03:00           0.0  \n",
      "2024-08-26 00:00:00-03:00           0.0  \n",
      "2024-08-27 00:00:00-03:00           0.0  \n",
      "2024-08-28 00:00:00-03:00           0.0  \n",
      "2024-08-29 00:00:00-03:00           0.0  \n",
      "2024-08-30 00:00:00-03:00           0.0  \n",
      "2024-09-02 00:00:00-03:00           0.0  \n",
      "2024-09-03 00:00:00-03:00           0.0  \n",
      "2024-09-04 00:00:00-03:00           0.0  \n",
      "2024-09-05 00:00:00-03:00           0.0  \n",
      "2024-09-06 00:00:00-03:00           0.0  \n",
      "2024-09-09 00:00:00-03:00           0.0  \n",
      "2024-09-10 00:00:00-03:00           0.0  \n",
      "2024-09-11 00:00:00-03:00           0.0  \n",
      "2024-09-12 00:00:00-03:00           0.0  \n",
      "2024-09-13 00:00:00-03:00           0.0  \n",
      "2024-09-16 00:00:00-03:00           0.0  \n",
      "2024-09-17 00:00:00-03:00           0.0  \n",
      "2024-09-18 00:00:00-03:00           0.0  \n",
      "2024-09-19 00:00:00-03:00           0.0  \n",
      "2024-09-20 00:00:00-03:00           0.0  \n"
     ]
    }
   ],
   "source": [
    "#Definindo o ticker da ação\n",
    "ticker_symbol = 'BEEF3.SA'\n",
    "\n",
    "#Baixando dados históricos\n",
    "ticker_data = yf.Ticker(ticker_symbol)\n",
    "df = ticker_data.history(period='1mo', interval='1d')\n",
    "\n",
    "#Exibindo os dados\n",
    "print(df)"
   ]
  },
  {
   "cell_type": "markdown",
   "metadata": {},
   "source": [
    "## Integrando ao `Streamlit`"
   ]
  },
  {
   "cell_type": "code",
   "execution_count": 4,
   "metadata": {},
   "outputs": [],
   "source": [
    "import streamlit as st"
   ]
  },
  {
   "cell_type": "code",
   "execution_count": 5,
   "metadata": {},
   "outputs": [
    {
     "name": "stderr",
     "output_type": "stream",
     "text": [
      "2024-09-22 13:09:35.681 WARNING streamlit.runtime.scriptrunner_utils.script_run_context: Thread 'MainThread': missing ScriptRunContext! This warning can be ignored when running in bare mode.\n",
      "2024-09-22 13:09:35.846 \n",
      "  \u001b[33m\u001b[1mWarning:\u001b[0m to view this Streamlit app on a browser, run it with the following\n",
      "  command:\n",
      "\n",
      "    streamlit run C:\\Users\\cleit\\AppData\\Roaming\\Python\\Python312\\site-packages\\ipykernel_launcher.py [ARGUMENTS]\n",
      "2024-09-22 13:09:35.847 Thread 'MainThread': missing ScriptRunContext! This warning can be ignored when running in bare mode.\n",
      "2024-09-22 13:09:35.848 Thread 'MainThread': missing ScriptRunContext! This warning can be ignored when running in bare mode.\n",
      "2024-09-22 13:09:35.848 Thread 'MainThread': missing ScriptRunContext! This warning can be ignored when running in bare mode.\n",
      "2024-09-22 13:09:35.849 Thread 'MainThread': missing ScriptRunContext! This warning can be ignored when running in bare mode.\n",
      "2024-09-22 13:09:35.849 Session state does not function when running a script without `streamlit run`\n",
      "2024-09-22 13:09:35.850 Thread 'MainThread': missing ScriptRunContext! This warning can be ignored when running in bare mode.\n",
      "2024-09-22 13:09:35.850 Thread 'MainThread': missing ScriptRunContext! This warning can be ignored when running in bare mode.\n",
      "2024-09-22 13:09:35.851 Thread 'MainThread': missing ScriptRunContext! This warning can be ignored when running in bare mode.\n",
      "2024-09-22 13:09:35.851 Thread 'MainThread': missing ScriptRunContext! This warning can be ignored when running in bare mode.\n",
      "2024-09-22 13:09:35.851 Thread 'MainThread': missing ScriptRunContext! This warning can be ignored when running in bare mode.\n",
      "2024-09-22 13:09:35.852 Thread 'MainThread': missing ScriptRunContext! This warning can be ignored when running in bare mode.\n",
      "2024-09-22 13:09:35.852 Thread 'MainThread': missing ScriptRunContext! This warning can be ignored when running in bare mode.\n",
      "2024-09-22 13:09:36.155 Thread 'MainThread': missing ScriptRunContext! This warning can be ignored when running in bare mode.\n",
      "2024-09-22 13:09:36.156 Thread 'MainThread': missing ScriptRunContext! This warning can be ignored when running in bare mode.\n",
      "2024-09-22 13:09:36.156 Thread 'MainThread': missing ScriptRunContext! This warning can be ignored when running in bare mode.\n",
      "2024-09-22 13:09:36.156 Thread 'MainThread': missing ScriptRunContext! This warning can be ignored when running in bare mode.\n",
      "2024-09-22 13:09:36.231 Thread 'MainThread': missing ScriptRunContext! This warning can be ignored when running in bare mode.\n",
      "2024-09-22 13:09:36.232 Thread 'MainThread': missing ScriptRunContext! This warning can be ignored when running in bare mode.\n",
      "2024-09-22 13:09:36.662 Thread 'MainThread': missing ScriptRunContext! This warning can be ignored when running in bare mode.\n",
      "2024-09-22 13:09:36.663 Thread 'MainThread': missing ScriptRunContext! This warning can be ignored when running in bare mode.\n"
     ]
    },
    {
     "data": {
      "text/plain": [
       "DeltaGenerator()"
      ]
     },
     "execution_count": 5,
     "metadata": {},
     "output_type": "execute_result"
    }
   ],
   "source": [
    "# Configurando o Streamlit\n",
    "st.title('Monitor de Ações Financeiras')\n",
    "\n",
    "# Campo de entrada para o usuário selecionar a ação\n",
    "stock_ticker = st.text_input('Digite o código da ação:', 'BEEF3.SA')\n",
    "\n",
    "# Selecionando o intervalo\n",
    "interval = st.selectbox('Escolha o intervalo:', ['1d', '5d', '1wk', '1mo', '3mo'])\n",
    "\n",
    "# Carregando os dados da ação usando yfinance\n",
    "ticker_data = yf.Ticker(stock_ticker)\n",
    "df = ticker_data.history(period='1mo', interval=interval)\n",
    "\n",
    "# Exibindo os dados\n",
    "st.write(f'Dados da ação: {stock_ticker}')\n",
    "st.dataframe(df)\n",
    "\n",
    "# Exibindo o gráfico\n",
    "st.line_chart(df['Close'])"
   ]
  }
 ],
 "metadata": {
  "kernelspec": {
   "display_name": "Python 3",
   "language": "python",
   "name": "python3"
  },
  "language_info": {
   "codemirror_mode": {
    "name": "ipython",
    "version": 3
   },
   "file_extension": ".py",
   "mimetype": "text/x-python",
   "name": "python",
   "nbconvert_exporter": "python",
   "pygments_lexer": "ipython3",
   "version": "3.12.3"
  }
 },
 "nbformat": 4,
 "nbformat_minor": 2
}
